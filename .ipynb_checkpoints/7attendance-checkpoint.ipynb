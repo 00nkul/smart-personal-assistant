{
 "cells": [
  {
   "cell_type": "code",
   "execution_count": 43,
   "metadata": {},
   "outputs": [
    {
     "name": "stdout",
     "output_type": "stream",
     "text": [
      "This is title\n",
      "\n",
      "Hello\n",
      "Hi\n",
      "3\n",
      "3\n",
      "3\n"
     ]
    }
   ],
   "source": [
    "import tkinter as tk  \n",
    "from tkinter import messagebox  \n",
    "from functools import partial  \n",
    "from PIL import Image, ImageTk\n",
    "import sqlite3\n",
    "from functools import partial  \n",
    "\n",
    "root = tk.Tk()  \n",
    "root.geometry('1500x900+100+100')    \n",
    "root.title('Signup PersonalChatboat')   \n",
    "\n",
    "conn = sqlite3.connect('chatboat.db')\n",
    "\n",
    "cursor = conn.execute(\"SELECT * FROM TODO\")\n",
    "\n",
    "def getval():\n",
    "    print(v1.get())\n",
    "\n",
    "k=100\n",
    "i=1\n",
    "for row in cursor:\n",
    "    \n",
    "    print(row[1]) \n",
    "    v1 = tk.StringVar(root, value=str(row[0]))\n",
    "    txt1=tk.Entry(root,textvariable=v1).place(x=100,y=k*i)\n",
    "    \n",
    "    v2 = tk.StringVar(root, value=str(row[1]))\n",
    "    txt1=tk.Entry(root,textvariable=v2).place(x=200,y=k*i)\n",
    "    \n",
    "    v3 = tk.StringVar(root, value=str(row[2]))\n",
    "    txt3=tk.Entry(root,textvariable=v3).place(x=300,y=k*i)  \n",
    "    \n",
    "    i+=1\n",
    "btn1 = tk.Button(root, text=\"1\",command=getval).place(x=600,y=100)\n",
    "btn1 = tk.Button(root, text=\"2\").place(x=600,y=200)\n",
    "btn1 = tk.Button(root, text=\"3\").place(x=600,y=300)\n",
    "btn1 = tk.Button(root, text=\"4\").place(x=600,y=400)\n",
    "btn1 = tk.Button(root, text=\"5\").place(x=600,y=500)\n",
    "root.mainloop()  "
   ]
  }
 ],
 "metadata": {
  "kernelspec": {
   "display_name": "Python 3",
   "language": "python",
   "name": "python3"
  },
  "language_info": {
   "codemirror_mode": {
    "name": "ipython",
    "version": 3
   },
   "file_extension": ".py",
   "mimetype": "text/x-python",
   "name": "python",
   "nbconvert_exporter": "python",
   "pygments_lexer": "ipython3",
   "version": "3.7.3"
  }
 },
 "nbformat": 4,
 "nbformat_minor": 2
}
