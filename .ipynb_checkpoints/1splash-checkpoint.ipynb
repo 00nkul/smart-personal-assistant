{
 "cells": [
  {
   "cell_type": "code",
   "execution_count": 70,
   "metadata": {},
   "outputs": [],
   "source": [
    "from tkinter.ttk import *\n",
    "from tkinter import messagebox  \n",
    "from functools import partial  \n",
    "from PIL import Image, ImageTk\n",
    "import time \n",
    "\n",
    "root = tk.Tk()  \n",
    "root.geometry('900x500+500+200')    \n",
    "root.title('Signup PersonalChatboat') \n",
    "root.configure(background='#809fff')\n",
    "\n",
    "\n",
    "project_title = tk.Label(root,text='Smart Personal Assistant')\n",
    "project_title.config(font=(\"Courier\",  40))\n",
    "project_title.place(x=80,y=100)\n",
    "\n",
    "developed_suraj = tk.Label(root,text=' - Suraj Shende',bg=\"#809fff\")\n",
    "developed_suraj.config(font=(\"Courier\",  20))\n",
    "developed_suraj.place(x=450,y=300)\n",
    "\n",
    "developed_vishakha = tk.Label(root,text=' - Vishkha Choudhary',bg=\"#809fff\")\n",
    "developed_vishakha.config(font=(\"Courier\",  20))\n",
    "developed_vishakha.place(x=450,y=250)\n",
    "\n",
    "buttonCal = tk.Button(root, text=\"Get Started\")\n",
    "buttonCal.config(font=(\"Courier\", 20))\n",
    "buttonCal.place(x=400,y=400)\n",
    "\n",
    "image1 = Image.open(\"bot.png\")\n",
    "photo1 = ImageTk.PhotoImage(image1)\n",
    "label1 = tk.Label(width=200,height=300,image=photo1)\n",
    "label1.image = photo1\n",
    "label1.place(x=80,y=180)\n",
    "\n",
    " \n",
    "root.mainloop()  "
   ]
  }
 ],
 "metadata": {
  "kernelspec": {
   "display_name": "Python 3",
   "language": "python",
   "name": "python3"
  },
  "language_info": {
   "codemirror_mode": {
    "name": "ipython",
    "version": 3
   },
   "file_extension": ".py",
   "mimetype": "text/x-python",
   "name": "python",
   "nbconvert_exporter": "python",
   "pygments_lexer": "ipython3",
   "version": "3.7.3"
  }
 },
 "nbformat": 4,
 "nbformat_minor": 2
}
